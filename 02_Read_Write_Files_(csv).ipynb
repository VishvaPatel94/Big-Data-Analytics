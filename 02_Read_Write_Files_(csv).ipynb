{
  "nbformat": 4,
  "nbformat_minor": 0,
  "metadata": {
    "colab": {
      "name": "02 Read-Write Files (csv).ipynb",
      "provenance": [],
      "authorship_tag": "ABX9TyNFEidXUMwDLestGp9Wzqx8",
      "include_colab_link": true
    },
    "kernelspec": {
      "name": "python3",
      "display_name": "Python 3"
    },
    "language_info": {
      "name": "python"
    }
  },
  "cells": [
    {
      "cell_type": "markdown",
      "metadata": {
        "id": "view-in-github",
        "colab_type": "text"
      },
      "source": [
        "<a href=\"https://colab.research.google.com/github/revendrat/Big-Data-Analytics/blob/main/02_Read_Write_Files_(csv).ipynb\" target=\"_parent\"><img src=\"https://colab.research.google.com/assets/colab-badge.svg\" alt=\"Open In Colab\"/></a>"
      ]
    },
    {
      "cell_type": "markdown",
      "source": [
        "# Reading & Writing CSV Files.\n",
        "1. First perform writing a csv file.\n",
        "2. Use the pyarrow Table and write it as csv file using pyarrow.csv.write_csv()\n",
        "3. Use the csv file and read it using pa.csv.read_csv()\n"
      ],
      "metadata": {
        "id": "L49dqUwyvIXN"
      }
    },
    {
      "cell_type": "code",
      "source": [
        "# import pyarrow\n",
        "import numpy as np\n",
        "import pyarrow as pa\n",
        "# Create a pyarrow Table containing numbers from 0 to 100\n",
        "\n",
        "arr = pa.array(range(100))\n",
        "table = pa.Table.from_arrays([arr], names=[\"col1\"])"
      ],
      "metadata": {
        "id": "bzdxMAiZvyhD"
      },
      "execution_count": 2,
      "outputs": []
    },
    {
      "cell_type": "code",
      "execution_count": 3,
      "metadata": {
        "id": "OHBQw0APYws4"
      },
      "outputs": [],
      "source": [
        "# Write a csv file\n",
        "import pyarrow.csv\n",
        "pa.csv.write_csv(table, \"table.csv\",\n",
        "                 write_options=pa.csv.WriteOptions(include_header=True))"
      ]
    },
    {
      "cell_type": "code",
      "source": [
        "# Check if table.csv file is available\n",
        "!ls"
      ],
      "metadata": {
        "colab": {
          "base_uri": "https://localhost:8080/"
        },
        "id": "Q43ZgGSMwJOD",
        "outputId": "0dbb90ed-50d4-4658-fad1-5fc7d0c733da"
      },
      "execution_count": 4,
      "outputs": [
        {
          "output_type": "stream",
          "name": "stdout",
          "text": [
            "sample_data  table.csv\n"
          ]
        }
      ]
    },
    {
      "cell_type": "markdown",
      "source": [
        "## Write CSV file incrementally\n",
        "* Write data to a CSV file incrementally without keeping data in memory \n",
        "* Use pyarrow.csv.CSVWriter to write data incrementally"
      ],
      "metadata": {
        "id": "YtyEGwknwGci"
      }
    },
    {
      "cell_type": "code",
      "source": [
        "schema = pa.schema([(\"col1\", pa.int32())])\n",
        "with pa.csv.CSVWriter(\"table_inc.csv\", schema=schema) as writer:\n",
        "    for chunk in range(10):\n",
        "        datachunk = range(chunk*10, (chunk+1)*10)\n",
        "        table = pa.Table.from_arrays([pa.array(datachunk)], schema=schema)\n",
        "        writer.write(table)"
      ],
      "metadata": {
        "id": "rfgZPAvhxxds"
      },
      "execution_count": 5,
      "outputs": []
    },
    {
      "cell_type": "code",
      "source": [
        "!ls"
      ],
      "metadata": {
        "colab": {
          "base_uri": "https://localhost:8080/"
        },
        "id": "K9-YtDuvx6fy",
        "outputId": "4c067ded-a457-483b-ac98-312317972628"
      },
      "execution_count": 6,
      "outputs": [
        {
          "output_type": "stream",
          "name": "stdout",
          "text": [
            "sample_data  table.csv\ttable_inc.csv\n"
          ]
        }
      ]
    }
  ]
}